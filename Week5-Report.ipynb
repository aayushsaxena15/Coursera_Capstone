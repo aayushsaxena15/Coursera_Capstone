{
  "nbformat": 4,
  "nbformat_minor": 0,
  "metadata": {
    "colab": {
      "name": "Untitled2.ipynb",
      "provenance": [],
      "authorship_tag": "ABX9TyNlq1tQH4Gaxv/d3jU8L8LM",
      "include_colab_link": true
    },
    "kernelspec": {
      "name": "python3",
      "display_name": "Python 3"
    }
  },
  "cells": [
    {
      "cell_type": "markdown",
      "metadata": {
        "id": "view-in-github",
        "colab_type": "text"
      },
      "source": [
        "<a href=\"https://colab.research.google.com/github/aayushsaxena15/Coursera_Capstone/blob/master/Week5-Report.ipynb\" target=\"_parent\"><img src=\"https://colab.research.google.com/assets/colab-badge.svg\" alt=\"Open In Colab\"/></a>"
      ]
    },
    {
      "cell_type": "markdown",
      "metadata": {
        "id": "fEAEoVwBdQzn",
        "colab_type": "text"
      },
      "source": [
        "# Introduction\n",
        "\n",
        "The purpose of this Project is to help people in exploring better facilities around their neighborhood. It will help people making smart and efficient decision on selecting great neighborhood out of numbers of other neighborhoods in Scarborough, Toranto.\n",
        "\n",
        "Lots of people are migrating to various states of Canada and needed lots of research for good housing prices and reputated schools for their children. This project is for those people who are looking for better neighborhoods. For ease of accessing to Cafe, School, Super market, medical shops, grocery shops, mall, theatre, hospital, like minded people, etc.\n",
        "\n",
        "This Project aim to create an analysis of features for a people migrating to Scarborough to search a best neighborhood as a comparative analysis between neighborhoods. The features include median housing price and better school according to ratings, crime rates of that particular area, road connectivity, weather conditions, good management for emergency, water resources both freash and waste water and excrement conveyed in sewers and recreational facilities."
      ]
    },
    {
      "cell_type": "markdown",
      "metadata": {
        "id": "G98mORKfdQhi",
        "colab_type": "text"
      },
      "source": [
        "# Data\n",
        "\n",
        "Data Link: https://en.wikipedia.org/wiki/List_of_postal_codes_of_Canada:_M\n",
        "\n",
        "We will need data about different venues in different neighborhoods of that specific borough. In order to gain that information we will use \"Foursquare\" locational information. Foursquare is a location data provider with information about all manner of venues and events within an area of interest. Such information includes venue names, locations, menus and even photos. As such, the foursquare location platform will be used as the sole data source since all the stated required information can be obtained through the API.\n",
        "\n",
        "After finding the list of neighborhoods, we then connect to the Foursquare API to gather information about venues inside each and every neighborhood. For each neighborhood, we have chosen the radius to be 100 meter.\n",
        "\n",
        "The data retrieved from Foursquare contained information of venues within a specified distance of the longitude and latitude of the postcodes. The information obtained per venue as follows:\n",
        "\n",
        "1. Neighborhood\n",
        "2. Neighborhood Latitude\n",
        "3. Neighborhood Longitude\n",
        "4. Venue\n",
        "5. Name of the venue e.g. the name of a store or restaurant\n",
        "6. Venue Latitude\n",
        "7. Venue Longitude\n",
        "8. Venue Category"
      ]
    },
    {
      "cell_type": "markdown",
      "metadata": {
        "id": "kpwRFgBIfva_",
        "colab_type": "text"
      },
      "source": [
        "# Methodology\n",
        "\n",
        "To compare the similarities of two cities, we decided to explore neighborhoods, segment them, and group them into clusters to find similar neighborhoods in a big city like New York and Toronto. To be able to do that, we need to cluster data which is a form of unsupervised machine learning: k-means clustering algorithm.\n",
        "\n",
        "Using credentials of Foursquare API features of near-by places of the neighborhoods would be mined. Due to http request limitations the number of places per neighborhood parameter would reasonably be set to 100 and the radius parameter would be set to 500."
      ]
    },
    {
      "cell_type": "markdown",
      "metadata": {
        "id": "UfwCiyvfgDnJ",
        "colab_type": "text"
      },
      "source": [
        "# Results\n",
        "\n",
        "Scarborough is a popular destination for new immigrants in Canada to reside. As a result, it is one of the most diverse and multicultural areas in the Greater Toronto Area, being home to various religious groups and places of worship. Although immigration has become a hot topic over the past few years with more governments seeking more restrictions on immigrants and refugees, the general trend of immigration into Canada has been one of on the rise.\n",
        "\n",
        "Foursquare API:\n",
        "This project have used Four-square API as its prime data gathering source as it has a database of millions of places, especially their places API which provides the ability to perform location search, location sharing and details about a business."
      ]
    },
    {
      "cell_type": "code",
      "metadata": {
        "id": "DAFZSdJcgI0V",
        "colab_type": "code",
        "colab": {}
      },
      "source": [
        ""
      ],
      "execution_count": 0,
      "outputs": []
    },
    {
      "cell_type": "markdown",
      "metadata": {
        "id": "98y9LvrpgJ5W",
        "colab_type": "text"
      },
      "source": [
        "# Discussion\n",
        "\n",
        "The major purpose of this project, is to suggest a better neighborhood in a new city for the person who are shiffting there. Social presence in society in terms of like minded people. Connectivity to the airport, bus stand, city center, markets and other daily needs things nearby.\n",
        "\n",
        "Sorted list of house in terms of housing prices in a ascending or descending order\n",
        "Sorted list of schools in terms of location, fees, rating and reviews"
      ]
    },
    {
      "cell_type": "code",
      "metadata": {
        "id": "gT9Sxl8MgOGW",
        "colab_type": "code",
        "colab": {}
      },
      "source": [
        ""
      ],
      "execution_count": 0,
      "outputs": []
    },
    {
      "cell_type": "markdown",
      "metadata": {
        "id": "5nZv8KMhgP2v",
        "colab_type": "text"
      },
      "source": [
        "# Conclusion\n",
        "\n",
        "In this project, using k-means cluster algorithm I separated the neighborhood into 10(Ten) different clusters and for 103 different lattitude and logitude from dataset, which have very-similar neighborhoods around them. Using the charts above results presented to a particular neighborhood based on average house prices and school rating have been made.\n",
        "\n",
        "I feel rewarded with the efforts and believe this course with all the topics covered is well worthy of appreciation. This project has shown me a practical application to resolve a real situation that has impacting personal and financial impact using Data Science tools. The mapping with Folium is a very powerful technique to consolidate information and make the analysis and decision better with confidence."
      ]
    },
    {
      "cell_type": "code",
      "metadata": {
        "id": "Sjcv-_ubgW2z",
        "colab_type": "code",
        "colab": {}
      },
      "source": [
        ""
      ],
      "execution_count": 0,
      "outputs": []
    }
  ]
}